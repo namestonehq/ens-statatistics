{
 "cells": [
  {
   "cell_type": "markdown",
   "metadata": {},
   "source": [
    "## Namewrapper Fuse Statistics\n",
    "\n",
    "### Todo\n",
    "\n",
    "[ X ] Get wrapped names\n",
    "\n",
    "[ X ] Get wrapped names with fuses set\n",
    "\n",
    "[ X ] Get wrapped names that unwrapped\n",
    "\n",
    "[ X ] Determine how many names are locked (PCC & Cannot Unwrap = True)\n"
   ]
  },
  {
   "cell_type": "code",
   "execution_count": 1,
   "metadata": {},
   "outputs": [],
   "source": [
    "# Imports\n",
    "from web3 import Web3\n",
    "from concurrent.futures import ThreadPoolExecutor, as_completed\n",
    "from hexbytes import HexBytes\n",
    "import asyncio\n",
    "import nest_asyncio\n",
    "import pandas as pd\n",
    "import json\n",
    "nest_asyncio.apply()\n",
    "pd.set_option('future.no_silent_downcasting', True)"
   ]
  },
  {
   "cell_type": "code",
   "execution_count": 2,
   "metadata": {},
   "outputs": [],
   "source": [
    "RPC = \"http://127.0.0.1:8545\""
   ]
  },
  {
   "cell_type": "code",
   "execution_count": 3,
   "metadata": {},
   "outputs": [],
   "source": [
    "# Connect to RPC\n",
    "web3 = Web3(Web3.HTTPProvider(RPC))\n",
    "assert web3.is_connected()"
   ]
  },
  {
   "cell_type": "code",
   "execution_count": 4,
   "metadata": {},
   "outputs": [],
   "source": [
    "async def fetch_logs_for_range(web3, address, start_block, end_block):\n",
    "    \"\"\"Fetch logs for a specific block range asynchronously.\"\"\"\n",
    "    try:\n",
    "        events = await asyncio.to_thread(\n",
    "            web3.eth.get_logs, {\n",
    "                \"fromBlock\": start_block,\n",
    "                \"toBlock\": end_block,\n",
    "                \"address\": address\n",
    "            }\n",
    "        )\n",
    "        print(f\"Fetched {len(events)} events from blocks {start_block} to {end_block}\")\n",
    "        return events\n",
    "    except Exception as e:\n",
    "        print(f\"Error fetching logs for blocks {start_block} to {end_block}: {e}\")\n",
    "        return []\n",
    "\n",
    "async def fetch_logs_parallel(web3, address, start_block, end_block, step=100000, max_concurrent_tasks=10):\n",
    "    \"\"\"Fetch logs in parallel using asyncio for better scalability.\"\"\"\n",
    "    tasks = []\n",
    "    logs = []\n",
    "\n",
    "    print(f\"Fetching events for {address} from block {start_block} to {end_block} in parallel...\")\n",
    "\n",
    "    semaphore = asyncio.Semaphore(max_concurrent_tasks)\n",
    "\n",
    "    async def fetch_with_semaphore(block_start, block_end):\n",
    "        async with semaphore:\n",
    "            return await fetch_logs_for_range(web3, address, block_start, block_end)\n",
    "\n",
    "    for block_start in range(start_block, end_block + 1, step):\n",
    "        block_end = min(block_start + step - 1, end_block)\n",
    "        tasks.append(fetch_with_semaphore(block_start, block_end))\n",
    "\n",
    "    results = await asyncio.gather(*tasks)\n",
    "    for result in results:\n",
    "        logs.extend(result)\n",
    "\n",
    "    print(f\"Total events found: {len(logs)}\")\n",
    "    return logs"
   ]
  },
  {
   "cell_type": "code",
   "execution_count": 5,
   "metadata": {},
   "outputs": [],
   "source": [
    "def decode_dns_name(data, offset=0):\n",
    "    \"\"\"\n",
    "    Decode a DNS name from a byte sequence.\n",
    "\n",
    "    :param data: Byte sequence containing the DNS name.\n",
    "    :param offset: Starting offset for the DNS name in the byte sequence.\n",
    "    :return: The decoded DNS name as a string.\n",
    "    \"\"\"\n",
    "    labels = []\n",
    "    while True:\n",
    "        length = data[offset]\n",
    "        if length == 0:\n",
    "            # End of the name\n",
    "            break\n",
    "        if (length & 0xC0) == 0xC0:\n",
    "            # Pointer to another location\n",
    "            pointer = ((length & 0x3F) << 8) | data[offset + 1]\n",
    "            labels.append(decode_dns_name(data, pointer)[0])\n",
    "            offset += 2\n",
    "            break\n",
    "        else:\n",
    "            # Regular label\n",
    "            offset += 1\n",
    "            labels.append(data[offset:offset + length].decode(\"utf-8\"))\n",
    "            offset += length\n",
    "    return \".\".join(labels), offset + 1"
   ]
  },
  {
   "cell_type": "code",
   "execution_count": 6,
   "metadata": {},
   "outputs": [],
   "source": [
    "CONTRACT_ADDRESS = \"0xD4416b13d2b3a9aBae7AcD5D6C2BbDBE25686401\" # NameWrapper\n",
    "START_BLOCK = 16925608  \n",
    "END_BLOCK = web3.eth.block_number  "
   ]
  },
  {
   "cell_type": "code",
   "execution_count": 7,
   "metadata": {},
   "outputs": [
    {
     "name": "stdout",
     "output_type": "stream",
     "text": [
      "Fetching events for 0xD4416b13d2b3a9aBae7AcD5D6C2BbDBE25686401 from block 16925608 to 21332957 in parallel...\n",
      "Fetched 145 events from blocks 16925608 to 17025607\n",
      "Fetched 4678 events from blocks 17025608 to 17125607\n",
      "Fetched 12087 events from blocks 17125608 to 17225607\n",
      "Fetched 16522 events from blocks 17225608 to 17325607\n",
      "Fetched 21250 events from blocks 17325608 to 17425607\n",
      "Fetched 25262 events from blocks 17625608 to 17725607\n",
      "Fetched 28513 events from blocks 17725608 to 17825607\n",
      "Fetched 30687 events from blocks 17825608 to 17925607\n",
      "Fetched 38019 events from blocks 17525608 to 17625607\n",
      "Fetched 24615 events from blocks 18025608 to 18125607\n",
      "Fetched 41900 events from blocks 17425608 to 17525607\n",
      "Fetched 27044 events from blocks 17925608 to 18025607\n",
      "Fetched 27258 events from blocks 18125608 to 18225607\n",
      "Fetched 18170 events from blocks 18525608 to 18625607\n",
      "Fetched 24724 events from blocks 18425608 to 18525607\n",
      "Fetched 11826 events from blocks 18725608 to 18825607\n",
      "Fetched 36004 events from blocks 18625608 to 18725607\n",
      "Fetched 52500 events from blocks 18325608 to 18425607\n",
      "Fetched 22669 events from blocks 18925608 to 19025607\n",
      "Fetched 8385 events from blocks 19325608 to 19425607\n",
      "Fetched 64243 events from blocks 18225608 to 18325607\n",
      "Fetched 38965 events from blocks 18825608 to 18925607\n",
      "Fetched 42661 events from blocks 19025608 to 19125607\n",
      "Fetched 44326 events from blocks 19125608 to 19225607\n",
      "Fetched 31745 events from blocks 19225608 to 19325607\n",
      "Fetched 25498 events from blocks 19425608 to 19525607\n",
      "Fetched 31286 events from blocks 19525608 to 19625607\n",
      "Fetched 16459 events from blocks 19925608 to 20025607\n",
      "Fetched 16943 events from blocks 20025608 to 20125607\n",
      "Fetched 29798 events from blocks 19825608 to 19925607\n",
      "Fetched 13297 events from blocks 20325608 to 20425607\n",
      "Fetched 16425 events from blocks 20225608 to 20325607\n",
      "Fetched 13221 events from blocks 20425608 to 20525607\n",
      "Fetched 22509 events from blocks 20125608 to 20225607\n",
      "Fetched 14932 events from blocks 20725608 to 20825607\n",
      "Fetched 38793 events from blocks 19725608 to 19825607\n",
      "Fetched 532 events from blocks 21325608 to 21332957\n",
      "Fetched 49041 events from blocks 19625608 to 19725607\n",
      "Fetched 21633 events from blocks 20625608 to 20725607\n",
      "Fetched 8107 events from blocks 21125608 to 21225607\n",
      "Fetched 24215 events from blocks 20525608 to 20625607\n",
      "Fetched 10591 events from blocks 21225608 to 21325607\n",
      "Fetched 18973 events from blocks 20825608 to 20925607\n",
      "Fetched 12864 events from blocks 20925608 to 21025607\n",
      "Fetched 12388 events from blocks 21025608 to 21125607\n",
      "Total events found: 1091703\n"
     ]
    }
   ],
   "source": [
    "logs = await fetch_logs_parallel(web3, CONTRACT_ADDRESS, START_BLOCK, END_BLOCK)\n"
   ]
  },
  {
   "cell_type": "code",
   "execution_count": 8,
   "metadata": {},
   "outputs": [],
   "source": [
    "df = pd.DataFrame(logs)"
   ]
  },
  {
   "cell_type": "code",
   "execution_count": 9,
   "metadata": {},
   "outputs": [],
   "source": [
    "topics = {'NameUnwrapped':'0xee2ba1195c65bcf218a83d874335c6bf9d9067b4c672f3c3bf16cf40de7586c4',\n",
    "          'NameWrapped':'0x8ce7013e8abebc55c3890a68f5a27c67c3f7efa64e584de5fb22363c606fd340',\n",
    "          'FusesSet':'0x39873f00c80f4f94b7bd1594aebcf650f003545b74824d57ddf4939e3ff3a34b'}"
   ]
  },
  {
   "cell_type": "code",
   "execution_count": 10,
   "metadata": {},
   "outputs": [],
   "source": [
    "df['nameunwrap_flag'] = df['topics'].apply(\n",
    "    lambda topic_list: any(t == HexBytes(topics['NameUnwrapped']) for t in topic_list)\n",
    ")\n",
    "\n",
    "df['namewrap_flag'] = df['topics'].apply(\n",
    "    lambda topic_list: any(t == HexBytes(topics['NameWrapped']) for t in topic_list)\n",
    ")\n",
    "\n",
    "df['fusesset_flag'] = df['topics'].apply(\n",
    "    lambda topic_list: any(t == HexBytes(topics['FusesSet']) for t in topic_list)\n",
    ")"
   ]
  },
  {
   "cell_type": "code",
   "execution_count": 11,
   "metadata": {},
   "outputs": [],
   "source": [
    "fuses_set_df = df[df.fusesset_flag == True].copy()"
   ]
  },
  {
   "cell_type": "code",
   "execution_count": 12,
   "metadata": {},
   "outputs": [],
   "source": [
    "fuses_set_df['node'] = fuses_set_df['topics'].apply(lambda x: x[1] if len(x) > 1 else None)\n",
    "fuses_set_df['fuses'] = fuses_set_df['data'].apply(lambda x: x.hex())"
   ]
  },
  {
   "cell_type": "code",
   "execution_count": 13,
   "metadata": {},
   "outputs": [],
   "source": [
    "# Keep only latest fuse set\n",
    "fuses_set_df = fuses_set_df.sort_values(by=['blockNumber', 'transactionIndex'], ascending=[False, False])\n",
    "fuses_set_df = fuses_set_df.drop_duplicates(subset='node', keep='first')"
   ]
  },
  {
   "cell_type": "code",
   "execution_count": 14,
   "metadata": {},
   "outputs": [],
   "source": [
    "# Decode fuses\n",
    "FUSES = {\n",
    "    \"CANNOT_UNWRAP\": 1,\n",
    "    \"CANNOT_BURN_FUSES\": 2,\n",
    "    \"CANNOT_TRANSFER\": 4,\n",
    "    \"CANNOT_SET_RESOLVER\": 8,\n",
    "    \"CANNOT_SET_TTL\": 16,\n",
    "    \"CANNOT_CREATE_SUBDOMAIN\": 32,\n",
    "    \"CANNOT_APPROVE\": 64,\n",
    "    \"PARENT_CANNOT_CONTROL\": 1 << 16,\n",
    "    \"IS_DOT_ETH\": 1 << 17,\n",
    "    \"CAN_EXTEND_EXPIRY\": 1 << 18,\n",
    "    \"CAN_DO_EVERYTHING\": 0,\n",
    "    \"PARENT_CONTROLLED_FUSES\": 0xFFFF0000,\n",
    "    \"USER_SETTABLE_FUSES\": 0xFFFDFFFF,\n",
    "}\n",
    "\n",
    "def decode_flags(value):\n",
    "    \"\"\"Decode a hex value into a list of fuse flags.\"\"\"\n",
    "    \n",
    "    value = int(value, 16) # assumes value is a hex string\n",
    "    # Decode the flags by checking bits\n",
    "    return [name for name, bit in FUSES.items() if value & bit]"
   ]
  },
  {
   "cell_type": "code",
   "execution_count": 15,
   "metadata": {},
   "outputs": [],
   "source": [
    "# Decode each fuse into a list of flags\n",
    "decoded_fuses = fuses_set_df['fuses'].apply(decode_flags)\n",
    "\n",
    "# Create a DataFrame where each flag is a column and the value is a boolean\n",
    "decoded_fuses_df = decoded_fuses.apply(lambda flags: {flag: True for flag in flags}).apply(pd.Series)\n",
    "\n",
    "# Merge the new columns back into the original DataFrame\n",
    "fuses_set_df = pd.concat([fuses_set_df, decoded_fuses_df], axis=1)\n",
    "\n",
    "# Display the updated DataFrame\n",
    "fuses_set_df.fillna(False,inplace=True)\n"
   ]
  },
  {
   "cell_type": "code",
   "execution_count": 16,
   "metadata": {},
   "outputs": [],
   "source": [
    "\n",
    "locked_fuses = (fuses_set_df.CANNOT_UNWRAP == True) & (fuses_set_df.PARENT_CANNOT_CONTROL == True) & (fuses_set_df.IS_DOT_ETH == True)"
   ]
  },
  {
   "cell_type": "code",
   "execution_count": 17,
   "metadata": {},
   "outputs": [],
   "source": [
    "cols = [ 'blockNumber', 'blockTimestamp', 'transactionHash', \n",
    "        'node', 'fuses']"
   ]
  },
  {
   "cell_type": "code",
   "execution_count": 18,
   "metadata": {},
   "outputs": [],
   "source": [
    "locked_names_df = fuses_set_df[locked_fuses][cols]"
   ]
  },
  {
   "cell_type": "code",
   "execution_count": 19,
   "metadata": {},
   "outputs": [],
   "source": [
    "# namewrapper can pull name from node\n",
    "with open(\"namewrapperabi.json\", \"r\") as abi_file:\n",
    "    contract_abi = json.load(abi_file)\n",
    "\n",
    "contract = web3.eth.contract(address=CONTRACT_ADDRESS, abi=contract_abi)"
   ]
  },
  {
   "cell_type": "code",
   "execution_count": 20,
   "metadata": {},
   "outputs": [],
   "source": [
    "locked_names_df['name'] =  locked_names_df['node'].apply(lambda x: contract.functions.names(x).call())\n",
    "locked_names_df['name'] = locked_names_df['name'].apply(lambda x: decode_dns_name(x)[0])"
   ]
  },
  {
   "cell_type": "code",
   "execution_count": 32,
   "metadata": {},
   "outputs": [],
   "source": [
    "def bytes_to_uint256(b):\n",
    "    return int.from_bytes(b, 'big')"
   ]
  },
  {
   "cell_type": "code",
   "execution_count": 33,
   "metadata": {},
   "outputs": [],
   "source": [
    "locked_names_df['owner'] =  locked_names_df['node'].apply(lambda x: contract.functions.ownerOf(bytes_to_uint256(x)).call())"
   ]
  },
  {
   "cell_type": "code",
   "execution_count": 36,
   "metadata": {},
   "outputs": [],
   "source": [
    "locked_names_df.to_csv('locked_names.csv', index=False)"
   ]
  },
  {
   "cell_type": "code",
   "execution_count": 40,
   "metadata": {},
   "outputs": [
    {
     "data": {
      "text/plain": [
       "252"
      ]
     },
     "execution_count": 40,
     "metadata": {},
     "output_type": "execute_result"
    }
   ],
   "source": [
    "# Burn or dead\n",
    "sum(locked_names_df.owner.isin(['0x0000000000000000000000000000000000000000','0x000000000000000000000000000000000000dEaD']))"
   ]
  },
  {
   "cell_type": "code",
   "execution_count": 41,
   "metadata": {},
   "outputs": [
    {
     "data": {
      "text/plain": [
       "648"
      ]
     },
     "execution_count": 41,
     "metadata": {},
     "output_type": "execute_result"
    }
   ],
   "source": [
    "# Unique owners of locked names\n",
    "locked_names_df[~locked_names_df.owner.isin(['0x0000000000000000000000000000000000000000'\n",
    "                             ,'0x000000000000000000000000000000000000dEaD'])].owner.nunique()"
   ]
  },
  {
   "cell_type": "code",
   "execution_count": 42,
   "metadata": {},
   "outputs": [
    {
     "data": {
      "text/plain": [
       "np.int64(938)"
      ]
     },
     "execution_count": 42,
     "metadata": {},
     "output_type": "execute_result"
    }
   ],
   "source": [
    "# Locked names\n",
    "locked_names_df[~locked_names_df.owner.isin(['0x0000000000000000000000000000000000000000'\n",
    "                             ,'0x000000000000000000000000000000000000dEaD'])].name.count()"
   ]
  },
  {
   "cell_type": "code",
   "execution_count": null,
   "metadata": {},
   "outputs": [],
   "source": []
  }
 ],
 "metadata": {
  "kernelspec": {
   "display_name": ".venv",
   "language": "python",
   "name": "python3"
  },
  "language_info": {
   "codemirror_mode": {
    "name": "ipython",
    "version": 3
   },
   "file_extension": ".py",
   "mimetype": "text/x-python",
   "name": "python",
   "nbconvert_exporter": "python",
   "pygments_lexer": "ipython3",
   "version": "3.12.7"
  }
 },
 "nbformat": 4,
 "nbformat_minor": 2
}
